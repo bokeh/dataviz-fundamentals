{
 "cells": [
  {
   "cell_type": "code",
   "execution_count": null,
   "id": "77527494-9ecd-49d4-b5c1-f8c8250124ca",
   "metadata": {},
   "outputs": [],
   "source": [
    "import pandas as pd\n",
    "import numpy as np\n",
    "from bokeh.io import output_notebook\n",
    "\n",
    "output_notebook()"
   ]
  },
  {
   "cell_type": "code",
   "execution_count": null,
   "id": "cbef94c2-16a8-4f81-b32c-5484e697c866",
   "metadata": {},
   "outputs": [],
   "source": [
    "file = \"../data/csv_files/US_census.csv\"\n",
    "\n",
    "df = pd.read_csv(file)\n",
    "\n",
    "new_df = (\n",
    "    df.groupby(\"state\")\n",
    "    .agg({\"median_household_income\": \"mean\", \"density\": \"mean\"})\n",
    "    .reset_index()\n",
    ")\n",
    "\n",
    "new_df = new_df.rename(columns={\"median_household_income\": \"income\"})\n",
    "\n",
    "bins = [-1, 39_000, 50_000, 60_000, 70_000, 100_000]\n",
    "labels = [\"<$40k\", \"$40k-$50k\", \"$50k-$60k\", \"$60k-$70k\", \">$70k\"]\n",
    "colors = [\"#f1e0e3\", \"#d8bbc4\", \"#ba93ab\", \"#966B93\", \"#6B467A\"]\n",
    "\n",
    "new_df[\"income_range\"] = pd.cut(new_df[\"income\"], bins=bins, labels=labels, right=False)\n",
    "new_df[\"colors\"] = pd.cut(new_df[\"income\"], bins=bins, labels=colors, right=False)\n",
    "\n",
    "new_df.head()"
   ]
  },
  {
   "cell_type": "code",
   "execution_count": null,
   "id": "fbe81a2c-ee20-49c8-8035-1111150853e5",
   "metadata": {},
   "outputs": [],
   "source": [
    "from bokeh.sampledata.us_states import data\n",
    "\n",
    "us_df = pd.DataFrame(data).T\n",
    "us_df = us_df[~us_df[\"name\"].isin([\"Alaska\", \"Hawaii\"])]\n",
    "us_df[\"lons\"] = us_df.lons.values.tolist()\n",
    "us_df[\"lats\"] = us_df.lats.values.tolist()\n",
    "us_df = us_df.reset_index(drop=True)\n",
    "us_df = us_df.rename(columns={\"name\": \"state\"})\n",
    "us_df = us_df.drop(\"region\", axis=1)\n",
    "\n",
    "us_df.head()"
   ]
  },
  {
   "cell_type": "code",
   "execution_count": null,
   "id": "ecbc44a5-7a59-4c43-8e86-872ad604cb5f",
   "metadata": {},
   "outputs": [],
   "source": [
    "plot_df = new_df.merge(us_df, on=\"state\")\n",
    "plot_df.head()"
   ]
  },
  {
   "cell_type": "code",
   "execution_count": null,
   "id": "0efc3827-9ad7-4ff0-a771-6b77f9f215cf",
   "metadata": {},
   "outputs": [],
   "source": [
    "from bokeh.models import ColumnDataSource\n",
    "from bokeh.plotting import figure, show\n",
    "\n",
    "source = ColumnDataSource(data=plot_df)\n",
    "\n",
    "p = figure(width=900, height=600, tooltips=[(\"State\", \"@state\")])\n",
    "\n",
    "p.patches(\n",
    "    \"lons\",\n",
    "    \"lats\",\n",
    "    fill_color=\"colors\",\n",
    "    line_color=\"black\",\n",
    "    legend_field=\"income_range\",\n",
    "    source=source,\n",
    ")\n",
    "\n",
    "p.yaxis.visible = False\n",
    "p.xaxis.visible = False\n",
    "p.grid.grid_line_color = None\n",
    "p.legend.location = \"bottom_left\"\n",
    "\n",
    "show(p)"
   ]
  },
  {
   "cell_type": "code",
   "execution_count": null,
   "id": "783adb92-67fe-434f-af15-0438c6af6992",
   "metadata": {},
   "outputs": [],
   "source": []
  }
 ],
 "metadata": {
  "kernelspec": {
   "display_name": "Python 3 (ipykernel)",
   "language": "python",
   "name": "python3"
  },
  "language_info": {
   "codemirror_mode": {
    "name": "ipython",
    "version": 3
   },
   "file_extension": ".py",
   "mimetype": "text/x-python",
   "name": "python",
   "nbconvert_exporter": "python",
   "pygments_lexer": "ipython3",
   "version": "3.10.11"
  }
 },
 "nbformat": 4,
 "nbformat_minor": 5
}
